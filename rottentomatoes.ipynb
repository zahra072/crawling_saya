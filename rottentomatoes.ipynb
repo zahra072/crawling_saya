{
 "cells": [
  {
   "cell_type": "code",
   "execution_count": 4,
   "id": "9d997bcb",
   "metadata": {},
   "outputs": [],
   "source": [
    "import pandas as pd\n",
    "from selenium import webdriver\n",
    "from selenium.webdriver.chrome.service import Service\n",
    "from selenium.webdriver.common.by import By\n",
    "from selenium.webdriver.chrome.options import Options\n",
    "\n",
    "# Path to your ChromeDriver executable\n",
    "service = Service('path_to_chromedriver')\n",
    "# Set Chrome options\n",
    "options = Options()\n",
    "options.add_argument('--headless')  # Run Chrome in headless mode\n",
    "\n",
    "# Launch the Chrome browser\n",
    "driver = webdriver.Chrome(service=service, options=options)\n",
    "\n",
    "# Open the website\n",
    "url = 'https://editorial.rottentomatoes.com/guide/best-netflix-movies-to-watch-right-now/'\n",
    "driver.get(url)\n",
    "movies = driver.find_elements(By.CLASS_NAME, 'countdown-item-content')\n",
    "# Create lists to store the scraped data\n",
    "titles = []\n",
    "years = []\n",
    "directors = []\n",
    "\n",
    "# Iterate over the movie items and extract title, year, and director\n",
    "for movie in movies:\n",
    "    title = movie.find_element(By.CLASS_NAME, 'article_movie_title').text.strip()\n",
    "    year = movie.find_element(By.CLASS_NAME, 'start-year').text.strip()\n",
    "    director = movie.find_element(By.CLASS_NAME, 'info.director').text.strip()\n",
    "\n",
    "    titles.append(title)\n",
    "    years.append(year)\n",
    "    directors.append(director)\n",
    "\n",
    "# Quit the browser\n",
    "driver.quit()\n",
    "\n",
    "# Create a dictionary of the scraped data\n",
    "data = {\n",
    "    'Title': titles,\n",
    "    'Year': years,\n",
    "    'Director': directors\n",
    "}\n",
    "\n",
    "# Create a DataFrame from the dictionary\n",
    "df = pd.DataFrame(data)\n",
    "\n",
    "# Save the DataFrame to an Excel file\n",
    "df.to_excel('rottentomatoes_data.xlsx', index=False)\n"
   ]
  },
  {
   "cell_type": "code",
   "execution_count": null,
   "id": "3ae69707",
   "metadata": {},
   "outputs": [],
   "source": []
  }
 ],
 "metadata": {
  "kernelspec": {
   "display_name": "Python 3 (ipykernel)",
   "language": "python",
   "name": "python3"
  },
  "language_info": {
   "codemirror_mode": {
    "name": "ipython",
    "version": 3
   },
   "file_extension": ".py",
   "mimetype": "text/x-python",
   "name": "python",
   "nbconvert_exporter": "python",
   "pygments_lexer": "ipython3",
   "version": "3.10.9"
  }
 },
 "nbformat": 4,
 "nbformat_minor": 5
}
